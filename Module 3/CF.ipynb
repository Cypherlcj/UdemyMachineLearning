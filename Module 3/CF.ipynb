{
 "cells": [
  {
   "cell_type": "code",
   "execution_count": 1,
   "metadata": {
    "collapsed": true
   },
   "outputs": [],
   "source": [
    "import numpy as np\n",
    "import pandas as pd\n",
    "import matplotlib.pyplot as plt\n",
    "%matplotlib inline"
   ]
  },
  {
   "cell_type": "code",
   "execution_count": 2,
   "metadata": {
    "collapsed": false
   },
   "outputs": [
    {
     "name": "stdout",
     "output_type": "stream",
     "text": [
      "users: \n",
      "[[ 0.6 -1. ]\n",
      " [ 0.5 -0.3]] \n",
      "items: \n",
      "[[ 0.5 -0.5]\n",
      " [ 0.8  0.1]]\n",
      "ratings: \n",
      "[[ 0.8   0.38]\n",
      " [ 0.4   0.37]]\n"
     ]
    }
   ],
   "source": [
    "# toy problem\n",
    "\n",
    "# two users, two items, each user and item are represented using two parameters\n",
    "\n",
    "toy_users = np.array([[0.6,-1],[0.5,-0.3]])\n",
    "toy_items = np.array([[0.5,-0.5],[0.8,0.1]])\n",
    "\n",
    "print(\"users: \\n%s \" %toy_users)\n",
    "print(\"items: \\n%s\" %toy_items)\n",
    "\n",
    "rates = toy_users.dot(toy_items.T)\n",
    "\n",
    "print(\"ratings: \\n%s\" %rates)\n"
   ]
  },
  {
   "cell_type": "code",
   "execution_count": 3,
   "metadata": {
    "collapsed": false
   },
   "outputs": [
    {
     "name": "stdout",
     "output_type": "stream",
     "text": [
      "0.6\n",
      "1.5\n",
      "3\n",
      "[1 2 -- -- --]\n",
      "2\n"
     ]
    }
   ],
   "source": [
    "# how to deal with missing ratings\n",
    "\n",
    "a = np.array([1,2,0,0,0])\n",
    "print a.mean()\n",
    "am = np.ma.masked_where(a == 0, a) # mark all zeros in a as masked\n",
    "print am.mean()\n",
    "print am.sum()\n",
    "print am\n",
    "\n",
    "b = np.array([0,1,2,3,4])\n",
    "bm = np.ma.masked_where(b == 0, b)\n",
    "print np.ma.dot(am,bm)"
   ]
  },
  {
   "cell_type": "code",
   "execution_count": 4,
   "metadata": {
    "collapsed": false
   },
   "outputs": [
    {
     "name": "stdout",
     "output_type": "stream",
     "text": [
      "/Users/Ke/Google Drive/Bit-tiger-AI-Engineer/DS1704/Week3/Project/ml-100k\n",
      "README             u.genre            u2.base            u5.test\r\n",
      "\u001b[31mallbut.pl\u001b[m\u001b[m*         u.info             u2.test            ua.base\r\n",
      "itemFeature.csv    u.item             u3.base            ua.test\r\n",
      "\u001b[31mmku.sh\u001b[m\u001b[m*            u.occupation       u3.test            ub.base\r\n",
      "ratings_test.csv   u.user             u4.base            ub.test\r\n",
      "ratings_train.csv  u1.base            u4.test            user_test.csv\r\n",
      "u.data             u1.test            u5.base            user_train.csv\r\n"
     ]
    }
   ],
   "source": [
    "%cd Project/ml-100k\n",
    "%ls"
   ]
  },
  {
   "cell_type": "code",
   "execution_count": 5,
   "metadata": {
    "collapsed": false
   },
   "outputs": [
    {
     "name": "stdout",
     "output_type": "stream",
     "text": [
      "196\t242\t3\t881250949\r\n",
      "186\t302\t3\t891717742\r\n",
      "22\t377\t1\t878887116\r\n",
      "244\t51\t2\t880606923\r\n",
      "166\t346\t1\t886397596\r\n",
      "298\t474\t4\t884182806\r\n",
      "115\t265\t2\t881171488\r\n",
      "253\t465\t5\t891628467\r\n",
      "305\t451\t3\t886324817\r\n",
      "6\t86\t3\t883603013\r\n"
     ]
    }
   ],
   "source": [
    "!head u.data"
   ]
  },
  {
   "cell_type": "code",
   "execution_count": 6,
   "metadata": {
    "collapsed": true
   },
   "outputs": [],
   "source": [
    "names = ['user_id','item_id','rating','timestamp']"
   ]
  },
  {
   "cell_type": "code",
   "execution_count": 7,
   "metadata": {
    "collapsed": true
   },
   "outputs": [],
   "source": [
    "df = pd.read_csv('u.data',sep='\\t',names=names)"
   ]
  },
  {
   "cell_type": "code",
   "execution_count": 8,
   "metadata": {
    "collapsed": false
   },
   "outputs": [
    {
     "data": {
      "text/html": [
       "<div>\n",
       "<table border=\"1\" class=\"dataframe\">\n",
       "  <thead>\n",
       "    <tr style=\"text-align: right;\">\n",
       "      <th></th>\n",
       "      <th>user_id</th>\n",
       "      <th>item_id</th>\n",
       "      <th>rating</th>\n",
       "      <th>timestamp</th>\n",
       "    </tr>\n",
       "  </thead>\n",
       "  <tbody>\n",
       "    <tr>\n",
       "      <th>0</th>\n",
       "      <td>196</td>\n",
       "      <td>242</td>\n",
       "      <td>3</td>\n",
       "      <td>881250949</td>\n",
       "    </tr>\n",
       "    <tr>\n",
       "      <th>1</th>\n",
       "      <td>186</td>\n",
       "      <td>302</td>\n",
       "      <td>3</td>\n",
       "      <td>891717742</td>\n",
       "    </tr>\n",
       "    <tr>\n",
       "      <th>2</th>\n",
       "      <td>22</td>\n",
       "      <td>377</td>\n",
       "      <td>1</td>\n",
       "      <td>878887116</td>\n",
       "    </tr>\n",
       "    <tr>\n",
       "      <th>3</th>\n",
       "      <td>244</td>\n",
       "      <td>51</td>\n",
       "      <td>2</td>\n",
       "      <td>880606923</td>\n",
       "    </tr>\n",
       "    <tr>\n",
       "      <th>4</th>\n",
       "      <td>166</td>\n",
       "      <td>346</td>\n",
       "      <td>1</td>\n",
       "      <td>886397596</td>\n",
       "    </tr>\n",
       "  </tbody>\n",
       "</table>\n",
       "</div>"
      ],
      "text/plain": [
       "   user_id  item_id  rating  timestamp\n",
       "0      196      242       3  881250949\n",
       "1      186      302       3  891717742\n",
       "2       22      377       1  878887116\n",
       "3      244       51       2  880606923\n",
       "4      166      346       1  886397596"
      ]
     },
     "execution_count": 8,
     "metadata": {},
     "output_type": "execute_result"
    }
   ],
   "source": [
    "df.head()"
   ]
  },
  {
   "cell_type": "code",
   "execution_count": 9,
   "metadata": {
    "collapsed": false
   },
   "outputs": [
    {
     "name": "stdout",
     "output_type": "stream",
     "text": [
      "943 users\n",
      "1682 items\n"
     ]
    }
   ],
   "source": [
    "n_users = df.user_id.unique().shape[0]\n",
    "n_items = df.item_id.unique().shape[0]\n",
    "print str(n_users) + ' users'\n",
    "print str(n_items) + ' items'"
   ]
  },
  {
   "cell_type": "code",
   "execution_count": 10,
   "metadata": {
    "collapsed": false
   },
   "outputs": [],
   "source": [
    "#create a rating matrix\n",
    "ratings = np.zeros([n_users, n_items])"
   ]
  },
  {
   "cell_type": "code",
   "execution_count": 11,
   "metadata": {
    "collapsed": false
   },
   "outputs": [
    {
     "data": {
      "text/plain": [
       "array([[ 5.,  3.,  4.,  3.,  3.,  5.,  4.,  1.,  5.,  3.],\n",
       "       [ 4.,  0.,  0.,  0.,  0.,  0.,  0.,  0.,  0.,  2.],\n",
       "       [ 0.,  0.,  0.,  0.,  0.,  0.,  0.,  0.,  0.,  0.],\n",
       "       [ 0.,  0.,  0.,  0.,  0.,  0.,  0.,  0.,  0.,  0.],\n",
       "       [ 4.,  3.,  0.,  0.,  0.,  0.,  0.,  0.,  0.,  0.],\n",
       "       [ 4.,  0.,  0.,  0.,  0.,  0.,  2.,  4.,  4.,  0.],\n",
       "       [ 0.,  0.,  0.,  5.,  0.,  0.,  5.,  5.,  5.,  4.],\n",
       "       [ 0.,  0.,  0.,  0.,  0.,  0.,  3.,  0.,  0.,  0.],\n",
       "       [ 0.,  0.,  0.,  0.,  0.,  5.,  4.,  0.,  0.,  0.],\n",
       "       [ 4.,  0.,  0.,  4.,  0.,  0.,  4.,  0.,  4.,  0.]])"
      ]
     },
     "execution_count": 11,
     "metadata": {},
     "output_type": "execute_result"
    }
   ],
   "source": [
    "for r in df.itertuples():\n",
    "    ratings[r[1]-1,r[2]-1] = r[3]\n",
    "ratings[:10, :10]"
   ]
  },
  {
   "cell_type": "code",
   "execution_count": 12,
   "metadata": {
    "collapsed": false
   },
   "outputs": [
    {
     "data": {
      "text/plain": [
       "(array([  0,   0,   0, ..., 942, 942, 942]),\n",
       " array([   0,    1,    2, ..., 1187, 1227, 1329]))"
      ]
     },
     "execution_count": 12,
     "metadata": {},
     "output_type": "execute_result"
    }
   ],
   "source": [
    "ratings.nonzero()"
   ]
  },
  {
   "cell_type": "code",
   "execution_count": 13,
   "metadata": {
    "collapsed": false
   },
   "outputs": [
    {
     "data": {
      "text/plain": [
       "[<matplotlib.lines.Line2D at 0x109f4eb10>]"
      ]
     },
     "execution_count": 13,
     "metadata": {},
     "output_type": "execute_result"
    },
    {
     "data": {
      "image/png": "[encoded data removed]",
      "text/plain": [
       "<matplotlib.figure.Figure at 0x1152d5d50>"
      ]
     },
     "metadata": {},
     "output_type": "display_data"
    }
   ],
   "source": [
    "plt.plot((ratings>0).sum(axis=0)) # number of raings for each movie"
   ]
  },
  {
   "cell_type": "code",
   "execution_count": 14,
   "metadata": {
    "collapsed": false
   },
   "outputs": [
    {
     "data": {
      "text/plain": [
       "array([[ 2.,  2.,  0., ...,  0.,  0.,  0.],\n",
       "       [ 0.,  0.,  0., ...,  0.,  0.,  0.],\n",
       "       [ 1.,  5.,  5., ...,  0.,  0.,  0.],\n",
       "       ..., \n",
       "       [ 0.,  0.,  0., ...,  0.,  0.,  0.],\n",
       "       [ 0.,  0.,  0., ...,  0.,  0.,  0.],\n",
       "       [ 4.,  5.,  0., ...,  0.,  0.,  0.]])"
      ]
     },
     "execution_count": 14,
     "metadata": {},
     "output_type": "execute_result"
    }
   ],
   "source": [
    "ratings[10:, 10:]"
   ]
  },
  {
   "cell_type": "code",
   "execution_count": 15,
   "metadata": {
    "collapsed": true
   },
   "outputs": [],
   "source": [
    "def train_test_generation(ratings):\n",
    "    test = np.zeros(ratings.shape)\n",
    "    train = ratings.copy()\n",
    "    #for each user\n",
    "    for user in xrange(ratings.shape[0]):\n",
    "        # pick 10 ratings randomly from each user\n",
    "        test_ratings = np.random.choice(ratings[user, :].nonzero()[0], \n",
    "                                        size=10, \n",
    "                                        replace=False)\n",
    "        # set the ratings in training to be zero\n",
    "        train[user, test_ratings] = 0.\n",
    "        # set the ratings in the test to be the real value\n",
    "        test[user, test_ratings] = ratings[user, test_ratings]\n",
    "        \n",
    "    # Test and training are truly disjoint\n",
    "    assert(np.all((train * test) == 0)) \n",
    "    return train, test"
   ]
  },
  {
   "cell_type": "code",
   "execution_count": 16,
   "metadata": {
    "collapsed": true
   },
   "outputs": [],
   "source": [
    "train, test = train_test_generation(ratings)\n",
    "train = np.ma.masked_where(train == 0, train) # ignore zeros in computation\n",
    "test = np.ma.masked_where(test == 0, test)"
   ]
  },
  {
   "cell_type": "code",
   "execution_count": 17,
   "metadata": {
    "collapsed": false
   },
   "outputs": [
    {
     "data": {
      "text/plain": [
       "90570"
      ]
     },
     "execution_count": 17,
     "metadata": {},
     "output_type": "execute_result"
    }
   ],
   "source": [
    "len(train.nonzero()[0])"
   ]
  },
  {
   "cell_type": "code",
   "execution_count": 18,
   "metadata": {
    "collapsed": false
   },
   "outputs": [
    {
     "data": {
      "text/plain": [
       "9430"
      ]
     },
     "execution_count": 18,
     "metadata": {},
     "output_type": "execute_result"
    }
   ],
   "source": [
    "len(test.nonzero()[0])"
   ]
  },
  {
   "cell_type": "code",
   "execution_count": 19,
   "metadata": {
    "collapsed": false
   },
   "outputs": [
    {
     "data": {
      "text/plain": [
       "100000"
      ]
     },
     "execution_count": 19,
     "metadata": {},
     "output_type": "execute_result"
    }
   ],
   "source": [
    "len(ratings.nonzero()[0])"
   ]
  },
  {
   "cell_type": "code",
   "execution_count": 20,
   "metadata": {
    "collapsed": true
   },
   "outputs": [],
   "source": [
    "# using MAE for evaluation\n",
    "# mean absolute error\n",
    "from sklearn.metrics import mean_absolute_error\n",
    "\n",
    "# pred and actual are matrices of N by p\n",
    "# actual can be test or training, depending on whether you are trying to \n",
    "# compute the test error or training error\n",
    "def get_mae(pred, actual):\n",
    "    # only compute on non-zero terms\n",
    "    pred = pred[actual.nonzero()].flatten() \n",
    "    actual = actual[actual.nonzero()].flatten()\n",
    "    return mean_absolute_error(pred, actual)"
   ]
  },
  {
   "cell_type": "code",
   "execution_count": 21,
   "metadata": {
    "collapsed": true
   },
   "outputs": [],
   "source": [
    "def myPlot(pred, actual):\n",
    "    # pred here is the whole matrix, but we need to use the actual data to find the test part\n",
    "    # actual is the test set, which is also a matrix\n",
    "    pred = pred[actual.nonzero()].flatten()\n",
    "    actual = actual[actual.nonzero()].flatten()\n",
    "    plt.plot(actual, pred, 'ro')\n",
    "    plt.xlabel(\"actual\")\n",
    "    plt.ylabel(\"prediction\")\n",
    "    plt.xlim([0,6])\n",
    "    plt.show()"
   ]
  },
  {
   "cell_type": "code",
   "execution_count": 22,
   "metadata": {
    "collapsed": false
   },
   "outputs": [
    {
     "name": "stdout",
     "output_type": "stream",
     "text": [
      "[3.595419847328244 3.730769230769231 2.8181818181818183 4.571428571428571\n",
      " 2.8484848484848486]\n",
      "Baseline model MAE: 0.846699298822\n"
     ]
    }
   ],
   "source": [
    "# baseline model, use user's rating average for prediction\n",
    "user_bias = train.mean(axis=1) \n",
    "# the average rating from each user, what the the possible worse value you can get here?\n",
    "\n",
    "print user_bias[:5]\n",
    "\n",
    "prediction_baseline = np.zeros(test.shape) + user_bias[:,np.newaxis] \n",
    "print 'Baseline model MAE: ' + str(get_mae(prediction_baseline, test))"
   ]
  },
  {
   "cell_type": "code",
   "execution_count": 23,
   "metadata": {
    "collapsed": true
   },
   "outputs": [],
   "source": [
    "# first part, user-based and item-based collaborative filtering\n",
    "from sklearn.metrics.pairwise import cosine_similarity\n",
    "\n",
    "# similarity matrix is always symmetric\n",
    "# symmetric along diagonal, here we only still fill in zeros, \n",
    "# since the cosine_similarity can't recognize the masked value.\n",
    "# if we really want to make it work, need to implement a special similarity function \n",
    "def similarity(ratings, kind='user'):\n",
    "    if kind == 'user':\n",
    "        sim = cosine_similarity(ratings) \n",
    "        #cosine_similarity, treat one row as one data point\n",
    "        # sim is a N by N matrix\n",
    "        assert(sim.shape[0] == ratings.shape[0])\n",
    "    elif kind == 'item':\n",
    "        sim = cosine_similarity(ratings.T)\n",
    "        # sim is a p by p matrix\n",
    "        assert(sim.shape[0] == ratings.shape[1])\n",
    "    sim[np.isnan(sim)] = 0 # when could nan happen? think about it \n",
    "    np.fill_diagonal(sim,0) # when compute neighbors, we don't need to compute itself\n",
    "    return sim"
   ]
  },
  {
   "cell_type": "code",
   "execution_count": 24,
   "metadata": {
    "collapsed": false
   },
   "outputs": [
    {
     "name": "stdout",
     "output_type": "stream",
     "text": [
      "[[ 0.          0.12154943  0.05347659  0.05050922]\n",
      " [ 0.12154943  0.          0.10788234  0.17616817]\n",
      " [ 0.05347659  0.10788234  0.          0.37261648]\n",
      " [ 0.05050922  0.17616817  0.37261648  0.        ]]\n",
      "[[ 0.          0.40010574  0.32046982  0.45440814]\n",
      " [ 0.40010574  0.          0.27160272  0.46928479]\n",
      " [ 0.32046982  0.27160272  0.          0.30582881]\n",
      " [ 0.45440814  0.46928479  0.30582881  0.        ]]\n"
     ]
    }
   ],
   "source": [
    "user_similarity = similarity(train, kind='user')\n",
    "item_similarity = similarity(train, kind='item')\n",
    "print user_similarity[:4, :4]\n",
    "print item_similarity[:4, :4]"
   ]
  },
  {
   "cell_type": "code",
   "execution_count": 25,
   "metadata": {
    "collapsed": false
   },
   "outputs": [
    {
     "name": "stdout",
     "output_type": "stream",
     "text": [
      "0.785573011946\n",
      "0.143577435504\n",
      "0.0\n",
      "1.0\n",
      "0.0857158518059\n",
      "0.0\n"
     ]
    }
   ],
   "source": [
    "print user_similarity.max()\n",
    "print user_similarity.mean()\n",
    "print user_similarity.min()\n",
    "\n",
    "print item_similarity.max()\n",
    "print item_similarity.mean()\n",
    "print item_similarity.min()\n",
    "\n",
    "# consine similarity always report positive value or 0"
   ]
  },
  {
   "cell_type": "code",
   "execution_count": 26,
   "metadata": {
    "collapsed": false
   },
   "outputs": [
    {
     "data": {
      "text/plain": [
       "(array([1200, 1235, 1617, 1625, 1652, 1664, 1670]),)"
      ]
     },
     "execution_count": 26,
     "metadata": {},
     "output_type": "execute_result"
    }
   ],
   "source": [
    "np.nonzero(np.ma.getmask(train.mean(axis=0))) # we have two items without any ratings"
   ]
  },
  {
   "cell_type": "code",
   "execution_count": 27,
   "metadata": {
    "collapsed": false
   },
   "outputs": [
    {
     "data": {
      "text/plain": [
       "(943, 943)"
      ]
     },
     "execution_count": 27,
     "metadata": {},
     "output_type": "execute_result"
    }
   ],
   "source": [
    "user_similarity.shape"
   ]
  },
  {
   "cell_type": "code",
   "execution_count": 28,
   "metadata": {
    "collapsed": false
   },
   "outputs": [],
   "source": [
    "# prediction function\n",
    "# use all ratings, including zero\n",
    "def predict(ratings, similarity, kind='user'):\n",
    "    if kind == 'user':\n",
    "        user_bias = ratings.mean(axis=1)\n",
    "        ratings = (ratings - user_bias[:, np.newaxis]).copy()\n",
    "        # in case there is a whole column or row with zero, \n",
    "        # i.e. this user/item is not similar to any others, add a small number \n",
    "        \n",
    "        # similarity is a matrix of N by N, row i is the similarity of user i to all other people\n",
    "        # ratings is a matrix of N by p (centralized already), column k is the ratings from all the people for item k \n",
    "        # for one row of similarity dot product with one column of rating,\n",
    "        # we compute the sum of the weighted ratings for all neighbors for user i, \"sum(sim(k,n)*r_ni)\"\n",
    "        # this value, divided by the sum of all the similarities for user i, and added back the user_bias\n",
    "        # will be the pred(i, k)\n",
    "        \n",
    "        pred = np.ma.dot(similarity, ratings) / np.array([np.abs(similarity).sum(axis=1)+1e-6]).T\n",
    "        pred += user_bias[:, np.newaxis]\n",
    "        \n",
    "    elif kind == 'item':\n",
    "        item_bias = ratings.mean(axis=0)\n",
    "        ratings = (ratings - item_bias[np.newaxis, :]).copy()\n",
    "        pred = np.ma.dot(ratings, similarity) / np.array([np.abs(similarity).sum(axis=1)+1e-6])\n",
    "        pred += item_bias[np.newaxis, :]\n",
    "    \n",
    "    return pred\n"
   ]
  },
  {
   "cell_type": "code",
   "execution_count": 29,
   "metadata": {
    "collapsed": false
   },
   "outputs": [
    {
     "name": "stdout",
     "output_type": "stream",
     "text": [
      "User-based CF train MAE: 0.791725811119\n",
      "Item-based CF train MAE: 0.766526617638\n",
      "User-based CF test MAE: 0.817107180821\n",
      "Item-based CF test MAE: 0.825446310247\n"
     ]
    },
    {
     "data": {
      "image/png": "[encoded data removed]",
      "text/plain": [
       "<matplotlib.figure.Figure at 0x103e3d850>"
      ]
     },
     "metadata": {},
     "output_type": "display_data"
    },
    {
     "data": {
      "image/png": "[encoded data removed]",
      "text/plain": [
       "<matplotlib.figure.Figure at 0x11dd9ee10>"
      ]
     },
     "metadata": {},
     "output_type": "display_data"
    }
   ],
   "source": [
    "user_prediction = predict(train, user_similarity, kind='user')\n",
    "item_prediction = predict(train, item_similarity, kind='item')\n",
    "\n",
    "print 'User-based CF train MAE: ' + str(get_mae(user_prediction, train))\n",
    "print 'Item-based CF train MAE: ' + str(get_mae(item_prediction, train))\n",
    "print 'User-based CF test MAE: ' + str(get_mae(user_prediction, test))\n",
    "print 'Item-based CF test MAE: ' + str(get_mae(item_prediction, test))\n",
    "myPlot(user_prediction, test)\n",
    "myPlot(item_prediction, test)"
   ]
  },
  {
   "cell_type": "code",
   "execution_count": 30,
   "metadata": {
    "collapsed": true
   },
   "outputs": [],
   "source": [
    "user_sim_nearest_neighbor = user_similarity.copy()\n",
    "user_sim_nearest_neighbor[user_sim_nearest_neighbor<0.30]=0\n",
    "\n",
    "item_sim_nearest_neighbor = item_similarity.copy()\n",
    "item_sim_nearest_neighbor[item_sim_nearest_neighbor<0.30]=0\n"
   ]
  },
  {
   "cell_type": "code",
   "execution_count": 31,
   "metadata": {
    "collapsed": false
   },
   "outputs": [
    {
     "name": "stdout",
     "output_type": "stream",
     "text": [
      "User-based CF train MAE: 0.77247388961\n",
      "Item-based CF train MAE: 0.734948280508\n",
      "User-based CF test MAE: 0.8071350154\n",
      "Item-based CF test MAE: 0.807955723523\n"
     ]
    },
    {
     "data": {
      "image/png": "[encoded data removed]",
      "text/plain": [
       "<matplotlib.figure.Figure at 0x1153cfbd0>"
      ]
     },
     "metadata": {},
     "output_type": "display_data"
    },
    {
     "data": {
      "image/png": "[encoded data removed]",
      "text/plain": [
       "<matplotlib.figure.Figure at 0x11f6917d0>"
      ]
     },
     "metadata": {},
     "output_type": "display_data"
    }
   ],
   "source": [
    "user_prediction = predict(train, user_sim_nearest_neighbor, kind='user')\n",
    "item_prediction = predict(train, item_sim_nearest_neighbor, kind='item')\n",
    "\n",
    "print 'User-based CF train MAE: ' + str(get_mae(user_prediction, train))\n",
    "print 'Item-based CF train MAE: ' + str(get_mae(item_prediction, train))\n",
    "print 'User-based CF test MAE: ' + str(get_mae(user_prediction, test))\n",
    "print 'Item-based CF test MAE: ' + str(get_mae(item_prediction, test))\n",
    "myPlot(user_prediction, test)\n",
    "myPlot(item_prediction, test)"
   ]
  },
  {
   "cell_type": "code",
   "execution_count": 32,
   "metadata": {
    "collapsed": false
   },
   "outputs": [
    {
     "name": "stdout",
     "output_type": "stream",
     "text": [
      "Matrix Factorization CF training MAE: 0.70627959744\n",
      "Matrix Factorization CF test MAE: 0.809345016508\n"
     ]
    },
    {
     "data": {
      "image/png": "[encoded data removed]",
      "text/plain": [
       "<matplotlib.figure.Figure at 0x126d7d850>"
      ]
     },
     "metadata": {},
     "output_type": "display_data"
    }
   ],
   "source": [
    "# **********************************************************************************************\n",
    "\n",
    "# using SVD \n",
    "# Singular value decomposition decomposes an arbitrary matrix with three parts.\n",
    "# when choosing k dimension of those parts, the result dot product is an estimation to\n",
    "# the original matrix\n",
    "\n",
    "# assume unseen ratings are all zero\n",
    "# try using user mean, will it be better?\n",
    "\n",
    "from scipy.sparse.linalg import svds # svd solver\n",
    "\n",
    "user_ratings_mean = np.mean(train, axis = 1)\n",
    "R_demeaned = train - user_ratings_mean.reshape(-1, 1)\n",
    "U, sigma, Vt = svds(R_demeaned, k=10) #solve for svd, sigma is returned a vector\n",
    "sigma = np.diag(sigma) # create a diagonal matrix\n",
    "# dignonal matrix example\n",
    "# 2 0 0\n",
    "# 0 1 0 \n",
    "# 0 0 0.5\n",
    "\n",
    "# np.dot(np.dot(U, sigma), Vt) is a low rank estimation to the R_demeaned\n",
    "all_user_predicted_ratings = np.dot(np.dot(U, sigma), Vt) + user_ratings_mean.reshape(-1, 1)\n",
    "print 'Matrix Factorization CF training MAE: ' + str(get_mae(all_user_predicted_ratings, train))\n",
    "print 'Matrix Factorization CF test MAE: ' + str(get_mae(all_user_predicted_ratings, test))\n",
    "myPlot(all_user_predicted_ratings, test)"
   ]
  },
  {
   "cell_type": "code",
   "execution_count": 33,
   "metadata": {
    "collapsed": true
   },
   "outputs": [],
   "source": [
    "def mySVD(train, test, k):\n",
    "    user_ratings_mean = np.mean(train, axis = 1)\n",
    "    R_demeaned = train - user_ratings_mean.reshape(-1, 1)\n",
    "    U, sigma, Vt = svds(R_demeaned, k=k)\n",
    "    sigma = np.diag(sigma)\n",
    "    all_user_predicted_ratings = np.dot(np.dot(U, sigma), Vt) + user_ratings_mean.reshape(-1, 1)\n",
    "    return get_mae(all_user_predicted_ratings, train), get_mae(all_user_predicted_ratings, test)"
   ]
  },
  {
   "cell_type": "code",
   "execution_count": 34,
   "metadata": {
    "collapsed": false
   },
   "outputs": [
    {
     "data": {
      "image/png": "[encoded data removed]",
      "text/plain": [
       "<matplotlib.figure.Figure at 0x128872790>"
      ]
     },
     "metadata": {},
     "output_type": "display_data"
    }
   ],
   "source": [
    "ks = [1,2,5,8,10,15,20,30,50,100]\n",
    "train_MAEs = []\n",
    "test_MAEs = []\n",
    "for k in ks:\n",
    "    train_MAE, test_MAE = mySVD(train, test, k)\n",
    "    train_MAEs.append(train_MAE)\n",
    "    test_MAEs.append(test_MAE)\n",
    "plt.plot(ks, train_MAEs, 'r')\n",
    "plt.plot(ks, test_MAEs, 'b')\n",
    "plt.xlabel(\"k\")\n",
    "plt.ylabel(\"MAE\")\n",
    "plt.show()"
   ]
  },
  {
   "cell_type": "code",
   "execution_count": 35,
   "metadata": {
    "collapsed": true
   },
   "outputs": [],
   "source": [
    "# directly optimize the objective function, on the seen ratings\n",
    "# ideally we should wait till the algorithm find a local minimum, but stop earlier sometimes\n",
    "# will provide better prediction power\n",
    "\n",
    "import numpy\n",
    "\n",
    "#beta regularization\n",
    "#alpha learning rate\n",
    "\n",
    "def matrix_factorization(train, K, steps=10, alpha=0.0001, beta=0.02):\n",
    "    N_user, N_item = train.shape\n",
    "    # U and V are latent vectors\n",
    "    U = numpy.random.rand(N_user,K)\n",
    "    V = numpy.random.rand(N_item,K).T\n",
    "    \n",
    "    for step in xrange(steps):\n",
    "        for i in xrange(N_user):\n",
    "            for j in xrange(N_item):\n",
    "                if train[i,j] > 0:\n",
    "                    eij = numpy.dot(U[i,:],V[:,j]) - train[i][j]  \n",
    "                    U[i] = U[i] - alpha * (2 * eij * V[:,j] + beta * U[i])\n",
    "                    V[:,j] = V[:,j] - alpha * (2 * eij * U[i] + beta * V[:,j])\n",
    "    \n",
    "    nR = numpy.dot(U, V)\n",
    "    return nR"
   ]
  },
  {
   "cell_type": "code",
   "execution_count": 36,
   "metadata": {
    "collapsed": false
   },
   "outputs": [],
   "source": [
    "K = 10\n",
    "\n",
    "prediction_sgd = matrix_factorization(train, K=10, steps=10, alpha=0.001)\n"
   ]
  },
  {
   "cell_type": "code",
   "execution_count": 37,
   "metadata": {
    "collapsed": false
   },
   "outputs": [
    {
     "name": "stdout",
     "output_type": "stream",
     "text": [
      "Matrix Factorization SGD CF MAE: 0.803577233556\n"
     ]
    }
   ],
   "source": [
    "print 'Matrix Factorization SGD CF MAE: ' + str(get_mae(prediction_sgd, test))"
   ]
  },
  {
   "cell_type": "code",
   "execution_count": 38,
   "metadata": {
    "collapsed": false
   },
   "outputs": [
    {
     "data": {
      "image/png": "[encoded data removed]",
      "text/plain": [
       "<matplotlib.figure.Figure at 0x116000110>"
      ]
     },
     "metadata": {},
     "output_type": "display_data"
    }
   ],
   "source": [
    "myPlot(prediction_sgd, test)"
   ]
  },
  {
   "cell_type": "code",
   "execution_count": null,
   "metadata": {
    "collapsed": true
   },
   "outputs": [],
   "source": []
  }
 ],
 "metadata": {
  "anaconda-cloud": {},
  "kernelspec": {
   "display_name": "Python [Root]",
   "language": "python",
   "name": "Python [Root]"
  },
  "language_info": {
   "codemirror_mode": {
    "name": "ipython",
    "version": 2
   },
   "file_extension": ".py",
   "mimetype": "text/x-python",
   "name": "python",
   "nbconvert_exporter": "python",
   "pygments_lexer": "ipython2",
   "version": "2.7.12"
  }
 },
 "nbformat": 4,
 "nbformat_minor": 0
}
