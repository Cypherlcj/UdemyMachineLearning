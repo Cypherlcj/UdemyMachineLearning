{
 "cells": [
  {
   "cell_type": "markdown",
   "metadata": {},
   "source": [
    "# Python Tutorial"
   ]
  },
  {
   "cell_type": "code",
   "execution_count": 3,
   "metadata": {
    "collapsed": false
   },
   "outputs": [
    {
     "name": "stdout",
     "output_type": "stream",
     "text": [
      "Hello, BitTiger students!\n"
     ]
    }
   ],
   "source": [
    "print('Hello, BitTiger students!')"
   ]
  },
  {
   "cell_type": "markdown",
   "metadata": {},
   "source": [
    "### If you want to roughly learn Python, the followings are the most important things you have to know:\n",
    "### Data Structures: 1. List, 2. Dictionary, 3. numpy.array, 4. pandas.DataFrame\n",
    "### Container: 索引，添删，排序，切片。。。其中的内容不需要死记硬背，在coding中可以按照需求google，再熟练运用起来。"
   ]
  },
  {
   "cell_type": "markdown",
   "metadata": {},
   "source": [
    "# 1. Data Type"
   ]
  },
  {
   "cell_type": "markdown",
   "metadata": {},
   "source": [
    "### string 字符串\n",
    "#### 单引号：\n",
    "#### 双引号：\n",
    "#### 三引号："
   ]
  },
  {
   "cell_type": "code",
   "execution_count": 4,
   "metadata": {
    "collapsed": false
   },
   "outputs": [
    {
     "name": "stdout",
     "output_type": "stream",
     "text": [
      "We are now learning DL from BitTiger.\n",
      "We are now learning 'DL'. It is from BitTiger.\n",
      "We are now learning \"DL\".\n",
      "It is from BitTiger.\n"
     ]
    }
   ],
   "source": [
    "decription1 = 'We are now learning DL from BitTiger.'\n",
    "decription2 = \"We are now learning 'DL' from BitTiger.\"\n",
    "decription2 = \"We are now learning 'DL'. \\\n",
    "It is from BitTiger.\"\n",
    "decription3 = '''We are now learning \"DL\".\n",
    "It is from BitTiger.'''\n",
    "\n",
    "print(decription1)\n",
    "print(decription2)\n",
    "print(decription3)"
   ]
  },
  {
   "cell_type": "markdown",
   "metadata": {},
   "source": [
    "### number 数字类型\n",
    "#### int，整形：\n",
    "#### float，浮点型：\n",
    "#### 自动推导："
   ]
  },
  {
   "cell_type": "code",
   "execution_count": 5,
   "metadata": {
    "collapsed": false
   },
   "outputs": [
    {
     "data": {
      "text/plain": [
       "float"
      ]
     },
     "execution_count": 5,
     "metadata": {},
     "output_type": "execute_result"
    }
   ],
   "source": [
    "a = 1\n",
    "type(a)\n",
    "\n",
    "a = 1.0\n",
    "type(a)\n",
    "\n",
    "a = 1.0 / 1\n",
    "type(a)\n",
    "\n",
    "a = 1 / 1.0\n",
    "type(a)"
   ]
  },
  {
   "cell_type": "markdown",
   "metadata": {},
   "source": [
    "# 2. Calculations"
   ]
  },
  {
   "cell_type": "markdown",
   "metadata": {},
   "source": [
    "### 加减乘除和位运算"
   ]
  },
  {
   "cell_type": "code",
   "execution_count": 6,
   "metadata": {
    "collapsed": false
   },
   "outputs": [
    {
     "name": "stdout",
     "output_type": "stream",
     "text": [
      "('a =', 3)\n",
      "('b =', 0)\n",
      "('c =', 32)\n",
      "('d =', 1)\n",
      "('e =', 8)\n",
      "('e =', 0)\n",
      "('f =', 0)\n",
      "('f =', 15)\n",
      "('f =', 15)\n",
      "('f =', -16)\n"
     ]
    }
   ],
   "source": [
    "# Normal calculations 普通运算\n",
    "a = 1 + 2\n",
    "print('a =', a)\n",
    "b = 1 / 2\n",
    "print('b =', b)\n",
    "c = 2 ** 5\n",
    "print('c =', c)\n",
    "d = 10 % 3\n",
    "print('d =', d)\n",
    "\n",
    "# Bit manipulation 位运算\n",
    "e = 1 << 3\n",
    "print('e =', e)\n",
    "e = 1 >> 1\n",
    "print('e =', e)\n",
    "f = 15 & 0\n",
    "print('f =', f)\n",
    "f = 15 | 0\n",
    "print('f =', f)\n",
    "f = 15 ^ 0\n",
    "print('f =', f)\n",
    "f = ~15\n",
    "print('f =', f)\n"
   ]
  },
  {
   "cell_type": "code",
   "execution_count": 7,
   "metadata": {
    "collapsed": false
   },
   "outputs": [
    {
     "name": "stdout",
     "output_type": "stream",
     "text": [
      "('a =', False)\n",
      "('b =', True)\n",
      "('c =', False)\n",
      "False\n"
     ]
    }
   ],
   "source": [
    "# logic 逻辑运算\n",
    "a = True and False\n",
    "print('a =', a)\n",
    "b = True or False\n",
    "print('b =', b)\n",
    "c = 1 == 2\n",
    "print('c =', c)\n",
    "d = not True\n",
    "print d"
   ]
  },
  {
   "cell_type": "markdown",
   "metadata": {},
   "source": [
    "# 3. Data Structures"
   ]
  },
  {
   "cell_type": "code",
   "execution_count": 8,
   "metadata": {
    "collapsed": false
   },
   "outputs": [
    {
     "name": "stdout",
     "output_type": "stream",
     "text": [
      "('We have', 5, 'students in our class.')\n",
      "()\n",
      "Lily\n",
      "Lucy\n",
      "Polly\n",
      "Lin Tao\n",
      "Tom\n",
      "\n",
      "['Lily', 'Lucia', 'Polly', 'Lin Tao', 'Tom']\n",
      "()\n",
      "Today we have a new student Uncle Wong!\n",
      "('So the list is now:', ['Lily', 'Lucia', 'Polly', 'Lin Tao', 'Tom', 'Uncle Wong'])\n",
      "()\n",
      "('List after deleting:', ['Lucia', 'Polly', 'Lin Tao', 'Tom', 'Uncle Wong'])\n",
      "()\n",
      "('Sorted list:', None)\n",
      "()\n",
      "The following are segmentation results:\n",
      "['Lin Tao', 'Lucia', 'Polly', 'Tom', 'Uncle Wong']\n",
      "['Lin Tao', 'Lucia']\n",
      "['Tom', 'Uncle Wong']\n",
      "['Tom']\n",
      "['Lin Tao', 'Polly']\n",
      "['Lin Tao', 'Lucia', 'Polly', 'Tom']\n",
      "()\n",
      "Other initialization:\n",
      "[1, 1, 1, 1, 1, 1, 1, 1, 1, 1, 1, 1, 1, 1, 1, 1, 1, 1, 1, 1, 1, 1, 1, 1, 1, 1, 1, 1, 1, 1, 1, 1, 1, 1, 1, 1, 1, 1, 1, 1, 1, 1, 1, 1, 1, 1, 1, 1, 1, 1, 1, 1, 1, 1, 1, 1, 1, 1, 1, 1, 1, 1, 1, 1, 1, 1, 1, 1, 1, 1, 1, 1, 1, 1, 1, 1, 1, 1, 1, 1, 1, 1, 1, 1, 1, 1, 1, 1, 1, 1, 1, 1, 1, 1, 1, 1, 1, 1, 1, 1]\n",
      "[1, 3, 5, 7, 9, 11, 13, 15, 17, 19, 21, 23, 25, 27, 29, 31, 33, 35, 37, 39, 41, 43, 45, 47, 49, 51, 53, 55, 57, 59, 61, 63, 65, 67, 69, 71, 73, 75, 77, 79, 81, 83, 85, 87, 89, 91, 93, 95, 97, 99]\n",
      "[1, 1, 1, 1, 1, 1, 1, 1, 1, 1, 1, 1, 1, 1, 1, 1, 1, 1, 1, 1, 1, 1, 1, 1, 1, 1, 1, 1, 1, 1, 1, 1, 1, 1, 1, 1, 1, 1, 1, 1, 1, 1, 1, 1, 1, 1, 1, 1, 1, 1, 1, 1, 1, 1, 1, 1, 1, 1, 1, 1, 1, 1, 1, 1, 1, 1, 1, 1, 1, 1, 1, 1, 1, 1, 1, 1, 1, 1, 1, 1, 1, 1, 1, 1, 1, 1, 1, 1, 1, 1, 1, 1, 1, 1, 1, 1, 1, 1, 1, 1]\n",
      "[1, 1, 1, 1, 1, 1, 1, 1, 1, 1, 1, 1, 1, 1, 1, 1, 1, 1, 1, 1, 1, 1, 1, 1, 1, 1, 1, 1, 1, 1, 1, 1, 1, 1, 1, 1, 1, 1, 1, 1, 1, 1, 1, 1, 1, 1, 1, 1, 1, 1, 1, 1, 1, 1, 1, 1, 1, 1, 1, 1, 1, 1, 1, 1, 1, 1, 1, 1, 1, 1, 1, 1, 1, 1, 1, 1, 1, 1, 1, 1, 1, 1, 1, 1, 1, 1, 1, 1, 1, 1, 1, 1, 1, 1, 1, 1, 1, 1, 1, 1, 1, 3, 5, 7, 9, 11, 13, 15, 17, 19, 21, 23, 25, 27, 29, 31, 33, 35, 37, 39, 41, 43, 45, 47, 49, 51, 53, 55, 57, 59, 61, 63, 65, 67, 69, 71, 73, 75, 77, 79, 81, 83, 85, 87, 89, 91, 93, 95, 97, 99]\n",
      "()\n",
      "Max and min:\n",
      "99\n",
      "1\n",
      "[99, 97, 95, 93, 91, 89, 87, 85, 83, 81, 79, 77, 75, 73, 71, 69, 67, 65, 63, 61, 59, 57, 55, 53, 51, 49, 47, 45, 43, 41, 39, 37, 35, 33, 31, 29, 27, 25, 23, 21, 19, 17, 15, 13, 11, 9, 7, 5, 3, 1, 1, 1, 1, 1, 1, 1, 1, 1, 1, 1, 1, 1, 1, 1, 1, 1, 1, 1, 1, 1, 1, 1, 1, 1, 1, 1, 1, 1, 1, 1, 1, 1, 1, 1, 1, 1, 1, 1, 1, 1, 1, 1, 1, 1, 1, 1, 1, 1, 1, 1, 1, 1, 1, 1, 1, 1, 1, 1, 1, 1, 1, 1, 1, 1, 1, 1, 1, 1, 1, 1, 1, 1, 1, 1, 1, 1, 1, 1, 1, 1, 1, 1, 1, 1, 1, 1, 1, 1, 1, 1, 1, 1, 1, 1, 1, 1, 1, 1, 1, 1]\n"
     ]
    }
   ],
   "source": [
    "# List 列表 ！！！ 如果没有时间完全学习python，这里重点看\n",
    "# 序列 sequential\n",
    "studentList = ['Lily', 'Lucy', 'Polly', 'Lin Tao', 'Tom']\n",
    "studentList2 = [1, 1.5, 'Lucy']\n",
    "print('We have', len(studentList), 'students in our class.')\n",
    "print()\n",
    "\n",
    "# 遍历\n",
    "for student in studentList:\n",
    "    print(student)\n",
    "print \"\"\n",
    "   \n",
    "# 元素操作\n",
    "studentList[1] = 'Lucia'    \n",
    "print(studentList)\n",
    "print()\n",
    "    \n",
    "# 末尾插入  \n",
    "# sequential \n",
    "# studentList.insert()\n",
    "studentList.append('Uncle Wong')\n",
    "print('Today we have a new student Uncle Wong!')\n",
    "print('So the list is now:', studentList)\n",
    "print()\n",
    "\n",
    "# 删除\n",
    "del studentList[0]\n",
    "print('List after deleting:', studentList)\n",
    "print()\n",
    "\n",
    "# 排序\n",
    "\n",
    "\n",
    "print('Sorted list:', studentList.sort())\n",
    "print()\n",
    "\n",
    "\n",
    "\n",
    "# 切片\n",
    "print('The following are segmentation results:')\n",
    "print(studentList[:])\n",
    "print(studentList[0:2])\n",
    "print(studentList[-2:])\n",
    "print(studentList[-2:-1])\n",
    "print(studentList[0:4:2]) # 0 and 2\n",
    "print(studentList[:-1])\n",
    "print()\n",
    "\n",
    "# 常用初始化\n",
    "print('Other initialization:')\n",
    "# list comprehension\n",
    "list1 = [1 for n in range(1, 101)]\n",
    "print(list1)\n",
    "\n",
    "list2 = [n for n in range(1, 101, 2)]\n",
    "print(list2)\n",
    "\n",
    "list3 = [1] * 100\n",
    "print(list3)\n",
    "# 合并\n",
    "list4 = list1 + list2\n",
    "print(list4)\n",
    "print()\n",
    "\n",
    "\n",
    "# 最大值\n",
    "print('Max and min:')\n",
    "print(max(list4))\n",
    "print(min(list4))\n",
    "\n",
    "# 其他函数： count remove insert pop reverse sort等等\n",
    "list4.reverse()\n",
    "print(list4)"
   ]
  },
  {
   "cell_type": "code",
   "execution_count": 9,
   "metadata": {
    "collapsed": false
   },
   "outputs": [
    {
     "name": "stdout",
     "output_type": "stream",
     "text": [
      "('We have', 5, 'students in our class.')\n",
      "Lily\n",
      "Lucy\n",
      "Polly\n",
      "Lin Tao\n",
      "Tom\n"
     ]
    }
   ],
   "source": [
    "# Tuple 元组\n",
    "studentList = ('Lily', 'Lucy', 'Polly', 'Lin Tao', 'Tom')\n",
    "print('We have', len(studentList), 'students in our class.')\n",
    "for iter in studentList:\n",
    "    print(iter)\n"
   ]
  },
  {
   "cell_type": "code",
   "execution_count": null,
   "metadata": {
    "collapsed": true
   },
   "outputs": [],
   "source": []
  },
  {
   "cell_type": "code",
   "execution_count": 10,
   "metadata": {
    "collapsed": false
   },
   "outputs": [
    {
     "name": "stdout",
     "output_type": "stream",
     "text": [
      "('We have', 5, 'students in our class.')\n",
      "Polly\n",
      "Lin Tao\n",
      "Lily\n",
      "Lucy\n",
      "Tom\n",
      "Test result:\n",
      "('Polly', 20)\n",
      "('Lin Tao', 60)\n",
      "('Lily', 99)\n",
      "('Lucy', 90)\n",
      "('Tom', 99)\n",
      "\n",
      "('Lily:', 99)\n",
      "{'Polly': 80, 'Lin Tao': 60, 'Lily': 99, 'Lucy': 90, 'Tom': 99}\n",
      "99\n"
     ]
    }
   ],
   "source": [
    "# Dictionary 字典 ！！！ 如果没有时间完全学习python，这里重点看\n",
    "# 哈希表!!!!!\n",
    "studentTest = {'Lily': 99, 'Lucy': 90, 'Polly': 20, 'Lin Tao': 60, 'Tom': 99}\n",
    "print('We have', len(studentList), 'students in our class.')\n",
    "\n",
    "# 遍历\n",
    "for studentName in studentTest:\n",
    "    print(studentName)\n",
    "\n",
    "print('Test result:')\n",
    "for k, v in studentTest.items():\n",
    "    print(k, v)\n",
    "print \"\"\n",
    "\n",
    "# dictionary.items() output a list of tuple(k,v)\n",
    "\n",
    "# 元素\n",
    "print('Lily:', studentTest['Lily'])\n",
    "\n",
    "# 赋值\n",
    "studentTest['Polly'] = 80\n",
    "print(studentTest)\n",
    "\n",
    "# studentTest['Tom'] # will give an error\n",
    "# \n",
    "s = 'Tom' \n",
    "if s in studentTest:\n",
    "    print(studentTest[s])\n",
    "\n"
   ]
  },
  {
   "cell_type": "markdown",
   "metadata": {},
   "source": [
    "# 4. If, while, for"
   ]
  },
  {
   "cell_type": "code",
   "execution_count": 11,
   "metadata": {
    "collapsed": false
   },
   "outputs": [
    {
     "name": "stdout",
     "output_type": "stream",
     "text": [
      "Student1 is not NULL\n",
      "0\n",
      "1\n",
      "2\n",
      "3\n",
      "4\n",
      "5\n",
      "6\n",
      "7\n",
      "8\n",
      "9\n",
      "10\n",
      "11\n",
      "12\n",
      "13\n",
      "14\n",
      "15\n",
      "16\n",
      "17\n",
      "18\n",
      "19\n",
      "20\n",
      "21\n",
      "22\n",
      "23\n",
      "24\n",
      "25\n",
      "26\n",
      "27\n",
      "28\n",
      "29\n",
      "30\n",
      "31\n",
      "32\n",
      "33\n",
      "34\n",
      "35\n",
      "36\n",
      "37\n",
      "38\n",
      "39\n",
      "40\n",
      "41\n",
      "42\n",
      "43\n",
      "44\n",
      "45\n",
      "46\n",
      "47\n",
      "48\n",
      "49\n",
      "50\n",
      "51\n",
      "52\n",
      "53\n",
      "54\n",
      "55\n",
      "56\n",
      "57\n",
      "58\n",
      "59\n",
      "60\n",
      "61\n",
      "62\n",
      "63\n",
      "64\n",
      "65\n",
      "66\n",
      "67\n",
      "68\n",
      "69\n",
      "70\n",
      "71\n",
      "72\n",
      "73\n",
      "74\n",
      "75\n",
      "76\n",
      "77\n",
      "78\n",
      "79\n",
      "80\n",
      "81\n",
      "82\n",
      "83\n",
      "84\n",
      "85\n",
      "86\n",
      "87\n",
      "88\n",
      "89\n",
      "90\n",
      "91\n",
      "92\n",
      "93\n",
      "94\n",
      "95\n",
      "96\n",
      "97\n",
      "98\n",
      "99\n",
      "100\n",
      "0\n",
      "1\n",
      "2\n",
      "3\n",
      "4\n",
      "5\n",
      "6\n",
      "7\n",
      "8\n",
      "9\n",
      "10\n",
      "11\n",
      "12\n",
      "13\n",
      "14\n",
      "15\n",
      "16\n",
      "17\n",
      "18\n",
      "19\n",
      "20\n",
      "21\n",
      "22\n",
      "23\n",
      "24\n",
      "25\n",
      "26\n",
      "27\n",
      "28\n",
      "29\n",
      "30\n",
      "31\n",
      "32\n",
      "33\n",
      "34\n",
      "35\n",
      "36\n",
      "37\n",
      "38\n",
      "39\n",
      "40\n",
      "41\n",
      "42\n",
      "43\n",
      "44\n",
      "45\n",
      "46\n",
      "47\n",
      "48\n",
      "49\n",
      "50\n",
      "51\n",
      "52\n",
      "53\n",
      "54\n",
      "55\n",
      "56\n",
      "57\n",
      "58\n",
      "59\n",
      "60\n",
      "61\n",
      "62\n",
      "63\n",
      "64\n",
      "65\n",
      "66\n",
      "67\n",
      "68\n",
      "69\n",
      "70\n",
      "71\n",
      "72\n",
      "73\n",
      "74\n",
      "75\n",
      "76\n",
      "77\n",
      "78\n",
      "79\n",
      "80\n",
      "81\n",
      "82\n",
      "83\n",
      "84\n",
      "85\n",
      "86\n",
      "87\n",
      "88\n",
      "89\n",
      "90\n",
      "91\n",
      "92\n",
      "93\n",
      "94\n",
      "95\n",
      "96\n",
      "97\n",
      "98\n",
      "99\n",
      "100\n"
     ]
    }
   ],
   "source": [
    "student1 = 'Lin Tao'\n",
    "if student1:\n",
    "    print('Student1 is not NULL')\n",
    "    \n",
    "for i in range(0, 101):\n",
    "    print(i)\n",
    "\n",
    "i = 0\n",
    "while(i < 101):\n",
    "    print(i)\n",
    "    i += 1"
   ]
  },
  {
   "cell_type": "markdown",
   "metadata": {},
   "source": [
    "# 5. Numpy"
   ]
  },
  {
   "cell_type": "code",
   "execution_count": 12,
   "metadata": {
    "collapsed": false
   },
   "outputs": [
    {
     "name": "stdout",
     "output_type": "stream",
     "text": [
      "[1 2 3 4]\n",
      "(4,)\n",
      "1\n",
      "[[1]\n",
      " [2]\n",
      " [3]\n",
      " [4]]\n",
      "(4, 1)\n",
      "2\n",
      "<type 'numpy.ndarray'>\n",
      "()\n",
      "4\n"
     ]
    }
   ],
   "source": [
    "import numpy as np\n",
    "\n",
    "# If you used to be a Matlab user, refer to the following site:\n",
    "# https://docs.scipy.org/doc/numpy-dev/user/numpy-for-matlab-users.html\n",
    "\n",
    "# initialization and attributes\n",
    "a = np.array([1, 2, 3, 4])\n",
    "print(a)\n",
    "print(a.shape)\n",
    "print(a.ndim)\n",
    "\n",
    "b = np.array([[1], [2], [3], [4]])\n",
    "print(b)\n",
    "print(b.shape)\n",
    "print(b.ndim)\n",
    "print(type(b))\n",
    "print()\n",
    "\n",
    "print(b.size)"
   ]
  },
  {
   "cell_type": "code",
   "execution_count": 13,
   "metadata": {
    "collapsed": false
   },
   "outputs": [
    {
     "name": "stdout",
     "output_type": "stream",
     "text": [
      "[5 6 7 8]\n",
      "\n",
      "[[1 2]\n",
      " [3 4]]\n",
      "\n",
      "[ 0  1  2  3  4  5  6  7  8  9 10 11 12 13 14 15 16 17 18 19 20 21 22 23 24\n",
      " 25 26 27 28 29 30 31 32 33 34 35 36 37 38 39 40 41 42 43 44 45 46 47 48 49\n",
      " 50]\n",
      "\n",
      "[[ 0  1  2  3  4  5  6  7  8  9 10 11 12 13 14 15 16]\n",
      " [17 18 19 20 21 22 23 24 25 26 27 28 29 30 31 32 33]\n",
      " [34 35 36 37 38 39 40 41 42 43 44 45 46 47 48 49 50]]\n",
      "\n",
      "[ 1.    1.25  1.5   1.75  2.    2.25  2.5   2.75  3.  ]\n",
      "\n",
      "[[ 0.  0.]\n",
      " [ 0.  0.]]\n",
      "\n",
      "[[ 1.  1.  1.  1.]\n",
      " [ 1.  1.  1.  1.]\n",
      " [ 1.  1.  1.  1.]]\n",
      "\n",
      "[[ 1.  0.  0.  0.  0.]\n",
      " [ 0.  1.  0.  0.  0.]\n",
      " [ 0.  0.  1.  0.  0.]\n",
      " [ 0.  0.  0.  1.  0.]\n",
      " [ 0.  0.  0.  0.  1.]]\n",
      "\n"
     ]
    }
   ],
   "source": [
    "# initialization\n",
    "print(np.array([5, 6, 7, 8]))\n",
    "print \"\"\n",
    "\n",
    "print(np.array([[1, 2],[3, 4]]))\n",
    "print \"\"\n",
    "\n",
    "print(np.arange(51)) # similar to range\n",
    "print \"\"\n",
    "\n",
    "print(np.arange(51).reshape(3,17)) \n",
    "# pay attention to the difference between numpy array and python list\n",
    "print \"\"\n",
    "\n",
    "print(np.linspace(1,3,9)) # from 1 to 3, evenly pick 9 numbers\n",
    "print \"\"\n",
    "\n",
    "print(np.zeros((2, 2)))\n",
    "print \"\"\n",
    "\n",
    "print(np.ones((3,4)))\n",
    "print \"\"\n",
    "\n",
    "print(np.eye(5))\n",
    "print \"\"\n"
   ]
  },
  {
   "cell_type": "code",
   "execution_count": null,
   "metadata": {
    "collapsed": true
   },
   "outputs": [],
   "source": []
  },
  {
   "cell_type": "code",
   "execution_count": 14,
   "metadata": {
    "collapsed": false
   },
   "outputs": [
    {
     "name": "stdout",
     "output_type": "stream",
     "text": [
      "Element wise operation result:\n",
      "[[2 3 4 5]\n",
      " [3 4 5 6]\n",
      " [4 5 6 7]\n",
      " [5 6 7 8]]\n",
      "[[ 1  2  3  4]\n",
      " [ 2  4  6  8]\n",
      " [ 3  6  9 12]\n",
      " [ 4  8 12 16]]\n",
      "[[  1   2   3   4]\n",
      " [  1   4   9  16]\n",
      " [  1   8  27  64]\n",
      " [  1  16  81 256]]\n",
      "[ 3  6  9 12]\n",
      "[4]\n",
      "()\n",
      "Bit wise wise operation result:\n",
      "[[1 3 3 5]\n",
      " [3 2 3 6]\n",
      " [3 3 3 7]\n",
      " [5 6 7 4]]\n",
      "[[1 0 1 0]\n",
      " [0 2 2 0]\n",
      " [1 2 3 0]\n",
      " [0 0 0 4]]\n",
      "[[0 3 2 5]\n",
      " [3 0 1 6]\n",
      " [2 1 0 7]\n",
      " [5 6 7 0]]\n"
     ]
    }
   ],
   "source": [
    "# element wise operation between 2 arrays \n",
    "print('Element wise operation result:')\n",
    "print(a + b)\n",
    "print(a * b)\n",
    "print(a ** b)\n",
    "print(3 * a)\n",
    "print(a[a > 3])\n",
    "print()\n",
    "\n",
    "# bit wise operation\n",
    "print('Bit wise wise operation result:')\n",
    "print(a | b)\n",
    "print(a & b)\n",
    "print(a ^ b)"
   ]
  },
  {
   "cell_type": "code",
   "execution_count": 15,
   "metadata": {
    "collapsed": false
   },
   "outputs": [
    {
     "name": "stdout",
     "output_type": "stream",
     "text": [
      "No copy:\n",
      "[100   2   3   4]\n",
      "[100   2   3   4]\n",
      "()\n",
      "View:\n",
      "False\n",
      "True\n",
      "(2, 2)\n",
      "(4,)\n",
      "()\n",
      "Deep copy:\n",
      "[1000    2    3    4]\n",
      "[100   2   3   4]\n"
     ]
    }
   ],
   "source": [
    "# shallow copy and deep copy 浅复制和深复制\n",
    "# No copy\n",
    "c = a;\n",
    "a[0] = 100\n",
    "print('No copy:')\n",
    "print(a)\n",
    "print(c)\n",
    "print()\n",
    "\n",
    "c = a.view()\n",
    "print('View:')\n",
    "print(c is a)\n",
    "print(c.base is a)\n",
    "c.shape = 2, 2\n",
    "print(c.shape)\n",
    "print(a.shape)\n",
    "print()\n",
    "\n",
    "# deep copy\n",
    "c = a.copy();\n",
    "a[0] = 1000\n",
    "print('Deep copy:')\n",
    "print(a)\n",
    "print(c);\n",
    "\n",
    "\n"
   ]
  },
  {
   "cell_type": "code",
   "execution_count": 16,
   "metadata": {
    "collapsed": false
   },
   "outputs": [
    {
     "name": "stdout",
     "output_type": "stream",
     "text": [
      "[[ 0  0  0  0  0  0  0  0  0  0]\n",
      " [ 0  1  2  3  4  5  6  7  8  9]\n",
      " [ 0  2  4  6  8 10 12 14 16 18]\n",
      " [ 0  3  6  9 12 15 18 21 24 27]\n",
      " [ 0  4  8 12 16 20 24 28 32 36]\n",
      " [ 0  5 10 15 20 25 30 35 40 45]\n",
      " [ 0  6 12 18 24 30 36 42 48 54]\n",
      " [ 0  7 14 21 28 35 42 49 56 63]\n",
      " [ 0  8 16 24 32 40 48 56 64 72]\n",
      " [ 0  9 18 27 36 45 54 63 72 81]]\n",
      "()\n",
      "[[ 9 12]\n",
      " [12 16]]\n",
      "()\n",
      "[0 1 2 3 4 5 6 7 8 9]\n"
     ]
    }
   ],
   "source": [
    "# segementation 切片\n",
    "a = np.arange(10)\n",
    "a.shape = (10, 1)\n",
    "a = np.dot(a, a.transpose()) # a*aT\n",
    "print(a)\n",
    "print()\n",
    "print(a[3:5, 3:5])\n",
    "print()\n",
    "print(a[1])\n",
    "\n"
   ]
  },
  {
   "cell_type": "code",
   "execution_count": 17,
   "metadata": {
    "collapsed": false
   },
   "outputs": [
    {
     "name": "stdout",
     "output_type": "stream",
     "text": [
      "[[ 0  0  0  0  0  0  0  0  0  0]\n",
      " [ 0  1  2  3  4  5  6  7  8  9]\n",
      " [ 0  2  4  6  8 10 12 14 16 18]\n",
      " [ 0  3  6 11 11 11 11 21 24 27]\n",
      " [ 0  4  8 11 11 11 11 28 32 36]\n",
      " [ 0  5 10 11 11 11 11 35 40 45]\n",
      " [ 0  6 12 11 11 11 11 42 48 54]\n",
      " [ 0  7 14 21 28 35 42 49 56 63]\n",
      " [ 0  8 16 24 32 40 48 56 64 72]\n",
      " [ 0  9 18 27 36 45 54 63 72 81]]\n"
     ]
    }
   ],
   "source": [
    "b = a[3:7, 3:7]\n",
    "b[:] = 11\n",
    "print(a)"
   ]
  },
  {
   "cell_type": "code",
   "execution_count": 18,
   "metadata": {
    "collapsed": false
   },
   "outputs": [
    {
     "name": "stdout",
     "output_type": "stream",
     "text": [
      "[[1 2]\n",
      " [3 4]]\n",
      "()\n",
      "[[1 3]\n",
      " [2 4]]\n",
      "()\n",
      "[[-2.   1. ]\n",
      " [ 1.5 -0.5]]\n",
      "()\n",
      "5\n",
      "()\n",
      "[[19 22]\n",
      " [43 50]]\n"
     ]
    }
   ],
   "source": [
    "# Algebra\n",
    "a = np.array([[1, 2], [3, 4]])\n",
    "b = np.array([[5, 6], [7, 8]])\n",
    "print(a)\n",
    "print()\n",
    "\n",
    "print(a.transpose()) # or a.T\n",
    "print()\n",
    "\n",
    "from numpy.linalg import inv\n",
    "print(inv(a))\n",
    "print()\n",
    "\n",
    "print(np.trace(a))\n",
    "print()\n",
    "\n",
    "print(np.dot(a, b))\n",
    "\n"
   ]
  },
  {
   "cell_type": "code",
   "execution_count": null,
   "metadata": {
    "collapsed": false
   },
   "outputs": [],
   "source": []
  },
  {
   "cell_type": "code",
   "execution_count": null,
   "metadata": {
    "collapsed": false
   },
   "outputs": [],
   "source": []
  },
  {
   "cell_type": "code",
   "execution_count": 19,
   "metadata": {
    "collapsed": false
   },
   "outputs": [
    {
     "name": "stdout",
     "output_type": "stream",
     "text": [
      "[3 4]\n",
      "(2,)\n",
      "[2 4]\n"
     ]
    }
   ],
   "source": [
    "# 维度退化\n",
    "# 1d\n",
    "print(a[1, :])\n",
    "print(a[1, :].shape)\n",
    "print(a[:,1]) # column vector with 2 dimension? No."
   ]
  },
  {
   "cell_type": "markdown",
   "metadata": {
    "collapsed": true
   },
   "source": [
    "# 6. Pandas"
   ]
  },
  {
   "cell_type": "markdown",
   "metadata": {},
   "source": [
    "### series:\n",
    "### dataframe:"
   ]
  },
  {
   "cell_type": "code",
   "execution_count": 20,
   "metadata": {
    "collapsed": false
   },
   "outputs": [
    {
     "name": "stdout",
     "output_type": "stream",
     "text": [
      "0     Lily\n",
      "1     Lucy\n",
      "2    Polly\n",
      "3      NaN\n",
      "4    Uncle\n",
      "5      Tom\n",
      "dtype: object\n"
     ]
    }
   ],
   "source": [
    "import numpy as np\n",
    "import pandas as pd\n",
    "# series, corresponding to python list \n",
    "studentsSeries = pd.Series(['Lily', 'Lucy', 'Polly', np.nan, 'Uncle', 'Tom'])\n",
    "print(studentsSeries)"
   ]
  },
  {
   "cell_type": "code",
   "execution_count": 21,
   "metadata": {
    "collapsed": false
   },
   "outputs": [
    {
     "name": "stdout",
     "output_type": "stream",
     "text": [
      "       Grade   Level  TestResult\n",
      "Lily       1  Junior          99\n",
      "Lucy       1  Junior          98\n",
      "Polly      2  Junior          97\n",
      "LiLei      4  Senior          96\n",
      "Uncle      3  Senior          95\n",
      "Tom        2  Junior          94\n",
      "<class 'pandas.core.frame.DataFrame'>\n",
      "Index: 6 entries, Lily to Tom\n",
      "Data columns (total 3 columns):\n",
      "Grade         6 non-null int32\n",
      "Level         6 non-null category\n",
      "TestResult    6 non-null int64\n",
      "dtypes: category(1), int32(1), int64(1)\n",
      "memory usage: 142.0+ bytes\n",
      "None\n"
     ]
    }
   ],
   "source": [
    "# dataframe\n",
    "index = ['Lily', 'Lucy', 'Polly', 'LiLei', 'Uncle', 'Tom']\n",
    "studentDataFrame = pd.DataFrame({\n",
    "        'Grade': np.array([1, 1, 2, 4, 3, 2], dtype = 'int32'),\n",
    "        'Level': pd.Categorical(['Junior', 'Junior', 'Junior', 'Senior', 'Senior', 'Junior']),\n",
    "        'TestResult': [99, 98, 97, 96, 95, 94]},\n",
    "        index = index,\n",
    "    )\n",
    "\n",
    "print(studentDataFrame)\n",
    "print(studentDataFrame.info())"
   ]
  },
  {
   "cell_type": "code",
   "execution_count": 22,
   "metadata": {
    "collapsed": false
   },
   "outputs": [
    {
     "name": "stdout",
     "output_type": "stream",
     "text": [
      "Lily     1\n",
      "Lucy     1\n",
      "Polly    2\n",
      "LiLei    4\n",
      "Uncle    3\n",
      "Tom      2\n",
      "Name: Grade, dtype: int32\n"
     ]
    }
   ],
   "source": [
    "# index\n",
    "print(studentDataFrame['Grade']) # syntax-wise, similar to dictionary"
   ]
  },
  {
   "cell_type": "code",
   "execution_count": 23,
   "metadata": {
    "collapsed": false
   },
   "outputs": [
    {
     "name": "stdout",
     "output_type": "stream",
     "text": [
      "       Grade   Level  TestResult\n",
      "Lily       1  Junior          99\n",
      "Lucy       1  Junior          98\n",
      "Polly      2  Junior          97\n",
      "       Grade   Level  TestResult\n",
      "Lily       1  Junior          99\n",
      "Lucy       1  Junior          98\n",
      "Polly      2  Junior          97\n",
      "LiLei      4  Senior          96\n"
     ]
    }
   ],
   "source": [
    "# segmentation切片\n",
    "# 直接使用[]进行选择，只能选择一行或者一列\n",
    "print(studentDataFrame[0:3])\n",
    "\n",
    "print(studentDataFrame['Lily':'LiLei'])"
   ]
  },
  {
   "cell_type": "code",
   "execution_count": 24,
   "metadata": {
    "collapsed": false
   },
   "outputs": [
    {
     "name": "stderr",
     "output_type": "stream",
     "text": [
      "/Users/Ke/anaconda/lib/python2.7/site-packages/ipykernel/__main__.py:3: SettingWithCopyWarning: \n",
      "A value is trying to be set on a copy of a slice from a DataFrame.\n",
      "Try using .loc[row_indexer,col_indexer] = value instead\n",
      "\n",
      "See the caveats in the documentation: http://pandas.pydata.org/pandas-docs/stable/indexing.html#indexing-view-versus-copy\n",
      "  app.launch_new_instance()\n"
     ]
    },
    {
     "data": {
      "text/html": [
       "<div>\n",
       "<table border=\"1\" class=\"dataframe\">\n",
       "  <thead>\n",
       "    <tr style=\"text-align: right;\">\n",
       "      <th></th>\n",
       "      <th>Grade</th>\n",
       "      <th>Level</th>\n",
       "      <th>TestResult</th>\n",
       "    </tr>\n",
       "  </thead>\n",
       "  <tbody>\n",
       "    <tr>\n",
       "      <th>Lily</th>\n",
       "      <td>1</td>\n",
       "      <td>Junior</td>\n",
       "      <td>99</td>\n",
       "    </tr>\n",
       "  </tbody>\n",
       "</table>\n",
       "</div>"
      ],
      "text/plain": [
       "      Grade   Level  TestResult\n",
       "Lily      1  Junior          99"
      ]
     },
     "execution_count": 24,
     "metadata": {},
     "output_type": "execute_result"
    }
   ],
   "source": [
    "studentDataFrame['Grade']\n",
    "\n",
    "studentDataFrame[0:1]['Grade'] = 10\n",
    "studentDataFrame[0:1]"
   ]
  },
  {
   "cell_type": "code",
   "execution_count": 25,
   "metadata": {
    "collapsed": false
   },
   "outputs": [
    {
     "name": "stdout",
     "output_type": "stream",
     "text": [
      "Grade              1\n",
      "Level         Junior\n",
      "TestResult        99\n",
      "Name: Lily, dtype: object\n",
      "\n",
      "Lily     1\n",
      "Lucy     1\n",
      "Polly    2\n",
      "LiLei    4\n",
      "Uncle    3\n",
      "Tom      2\n",
      "Name: Grade, dtype: int32\n"
     ]
    }
   ],
   "source": [
    "print(studentDataFrame.loc['Lily'])\n",
    "print \"\"\n",
    "print(studentDataFrame.loc[:,'Grade']) # similar to numpy 2-d array\n",
    "studentDataFrame.loc['Lily','Grade'] = 10 # now we can change the grade for Lily"
   ]
  },
  {
   "cell_type": "code",
   "execution_count": 26,
   "metadata": {
    "collapsed": false
   },
   "outputs": [
    {
     "name": "stdout",
     "output_type": "stream",
     "text": [
      "       Grade   Level\n",
      "Lily      10  Junior\n",
      "Lucy       1  Junior\n",
      "Polly      2  Junior\n",
      "LiLei      4  Senior\n",
      "Uncle      3  Senior\n",
      "Tom        2  Junior\n"
     ]
    }
   ],
   "source": [
    "print(studentDataFrame[['Grade', 'Level']])"
   ]
  },
  {
   "cell_type": "code",
   "execution_count": 27,
   "metadata": {
    "collapsed": false
   },
   "outputs": [
    {
     "name": "stdout",
     "output_type": "stream",
     "text": [
      "       Grade   Level\n",
      "Lily      10  Junior\n",
      "Lucy       1  Junior\n",
      "Polly      2  Junior\n",
      "LiLei      4  Senior\n",
      "Uncle      3  Senior\n",
      "Tom        2  Junior\n",
      "      Grade   Level\n",
      "Lily     10  Junior\n",
      "Lucy      1  Junior\n"
     ]
    }
   ],
   "source": [
    "# tag selection: loc 标签选择\n",
    "print(studentDataFrame.loc[:, ['Grade', 'Level']])\n",
    "\n",
    "print(studentDataFrame.loc[['Lily', 'Lucy'], ['Grade', 'Level']])"
   ]
  },
  {
   "cell_type": "code",
   "execution_count": 28,
   "metadata": {
    "collapsed": false
   },
   "outputs": [
    {
     "name": "stdout",
     "output_type": "stream",
     "text": [
      "       Grade   Level  TestResult\n",
      "Lily      10  Junior          99\n",
      "Lucy       1  Junior          98\n",
      "Polly      2  Junior          97\n"
     ]
    }
   ],
   "source": [
    "# position selection: iloc 位置选择, i is for index\n",
    "print(studentDataFrame.iloc[0: 3, 0: 3])"
   ]
  },
  {
   "cell_type": "code",
   "execution_count": 29,
   "metadata": {
    "collapsed": false
   },
   "outputs": [
    {
     "name": "stdout",
     "output_type": "stream",
     "text": [
      "       Grade   Level  TestResult\n",
      "Lily      10  Junior          99\n",
      "Polly      2  Junior          97\n",
      "LiLei      4  Senior          96\n",
      "Uncle      3  Senior          95\n",
      "Tom        2  Junior          94\n"
     ]
    }
   ],
   "source": [
    "# condition selection: 条件选择\n",
    "print(studentDataFrame[studentDataFrame['Grade'] > 1])"
   ]
  },
  {
   "cell_type": "code",
   "execution_count": 30,
   "metadata": {
    "collapsed": false
   },
   "outputs": [
    {
     "name": "stdout",
     "output_type": "stream",
     "text": [
      "       Grade   Level  TestResult  Gender\n",
      "Lily      10  Junior          99  Female\n",
      "Lucy       1  Junior          98  Female\n",
      "Polly      2  Junior          97  Female\n",
      "LiLei      4  Senior          96  Female\n",
      "Uncle      3  Senior          95  Female\n",
      "Tom        2  Junior          94  Female\n"
     ]
    }
   ],
   "source": [
    "# add one column: 增加一列\n",
    "Gender = ['Female', 'Female', 'Female', 'Female', 'Female', 'Female']\n",
    "studentDataFrame['Gender'] = Gender\n",
    "print(studentDataFrame)"
   ]
  },
  {
   "cell_type": "code",
   "execution_count": 31,
   "metadata": {
    "collapsed": false
   },
   "outputs": [
    {
     "data": {
      "text/html": [
       "<div>\n",
       "<table border=\"1\" class=\"dataframe\">\n",
       "  <thead>\n",
       "    <tr style=\"text-align: right;\">\n",
       "      <th></th>\n",
       "      <th>Grade</th>\n",
       "      <th>Level</th>\n",
       "      <th>TestResult</th>\n",
       "      <th>Gender</th>\n",
       "    </tr>\n",
       "  </thead>\n",
       "  <tbody>\n",
       "    <tr>\n",
       "      <th>Lily</th>\n",
       "      <td>10</td>\n",
       "      <td>Junior</td>\n",
       "      <td>99</td>\n",
       "      <td>Female</td>\n",
       "    </tr>\n",
       "    <tr>\n",
       "      <th>Lucy</th>\n",
       "      <td>1</td>\n",
       "      <td>Junior</td>\n",
       "      <td>98</td>\n",
       "      <td>Female</td>\n",
       "    </tr>\n",
       "  </tbody>\n",
       "</table>\n",
       "</div>"
      ],
      "text/plain": [
       "      Grade   Level  TestResult  Gender\n",
       "Lily     10  Junior          99  Female\n",
       "Lucy      1  Junior          98  Female"
      ]
     },
     "execution_count": 31,
     "metadata": {},
     "output_type": "execute_result"
    }
   ],
   "source": [
    "# observations\n",
    "studentDataFrame.head(2)"
   ]
  },
  {
   "cell_type": "code",
   "execution_count": 32,
   "metadata": {
    "collapsed": false
   },
   "outputs": [
    {
     "data": {
      "text/html": [
       "<div>\n",
       "<table border=\"1\" class=\"dataframe\">\n",
       "  <thead>\n",
       "    <tr style=\"text-align: right;\">\n",
       "      <th></th>\n",
       "      <th>Grade</th>\n",
       "      <th>Level</th>\n",
       "      <th>TestResult</th>\n",
       "      <th>Gender</th>\n",
       "    </tr>\n",
       "  </thead>\n",
       "  <tbody>\n",
       "    <tr>\n",
       "      <th>Uncle</th>\n",
       "      <td>3</td>\n",
       "      <td>Senior</td>\n",
       "      <td>95</td>\n",
       "      <td>Female</td>\n",
       "    </tr>\n",
       "    <tr>\n",
       "      <th>Tom</th>\n",
       "      <td>2</td>\n",
       "      <td>Junior</td>\n",
       "      <td>94</td>\n",
       "      <td>Female</td>\n",
       "    </tr>\n",
       "  </tbody>\n",
       "</table>\n",
       "</div>"
      ],
      "text/plain": [
       "       Grade   Level  TestResult  Gender\n",
       "Uncle      3  Senior          95  Female\n",
       "Tom        2  Junior          94  Female"
      ]
     },
     "execution_count": 32,
     "metadata": {},
     "output_type": "execute_result"
    }
   ],
   "source": [
    "studentDataFrame.tail(2)"
   ]
  },
  {
   "cell_type": "code",
   "execution_count": 33,
   "metadata": {
    "collapsed": false
   },
   "outputs": [
    {
     "data": {
      "text/html": [
       "<div>\n",
       "<table border=\"1\" class=\"dataframe\">\n",
       "  <thead>\n",
       "    <tr style=\"text-align: right;\">\n",
       "      <th></th>\n",
       "      <th>Grade</th>\n",
       "      <th>Level</th>\n",
       "      <th>TestResult</th>\n",
       "      <th>Gender</th>\n",
       "    </tr>\n",
       "  </thead>\n",
       "  <tbody>\n",
       "    <tr>\n",
       "      <th>Tom</th>\n",
       "      <td>2</td>\n",
       "      <td>Junior</td>\n",
       "      <td>94</td>\n",
       "      <td>Female</td>\n",
       "    </tr>\n",
       "    <tr>\n",
       "      <th>Uncle</th>\n",
       "      <td>3</td>\n",
       "      <td>Senior</td>\n",
       "      <td>95</td>\n",
       "      <td>Female</td>\n",
       "    </tr>\n",
       "    <tr>\n",
       "      <th>LiLei</th>\n",
       "      <td>4</td>\n",
       "      <td>Senior</td>\n",
       "      <td>96</td>\n",
       "      <td>Female</td>\n",
       "    </tr>\n",
       "    <tr>\n",
       "      <th>Polly</th>\n",
       "      <td>2</td>\n",
       "      <td>Junior</td>\n",
       "      <td>97</td>\n",
       "      <td>Female</td>\n",
       "    </tr>\n",
       "    <tr>\n",
       "      <th>Lucy</th>\n",
       "      <td>1</td>\n",
       "      <td>Junior</td>\n",
       "      <td>98</td>\n",
       "      <td>Female</td>\n",
       "    </tr>\n",
       "    <tr>\n",
       "      <th>Lily</th>\n",
       "      <td>10</td>\n",
       "      <td>Junior</td>\n",
       "      <td>99</td>\n",
       "      <td>Female</td>\n",
       "    </tr>\n",
       "  </tbody>\n",
       "</table>\n",
       "</div>"
      ],
      "text/plain": [
       "       Grade   Level  TestResult  Gender\n",
       "Tom        2  Junior          94  Female\n",
       "Uncle      3  Senior          95  Female\n",
       "LiLei      4  Senior          96  Female\n",
       "Polly      2  Junior          97  Female\n",
       "Lucy       1  Junior          98  Female\n",
       "Lily      10  Junior          99  Female"
      ]
     },
     "execution_count": 33,
     "metadata": {},
     "output_type": "execute_result"
    }
   ],
   "source": [
    "# sort()\n",
    "studentDataFrame.sort_values(by = 'TestResult') # return a sorted copy"
   ]
  },
  {
   "cell_type": "code",
   "execution_count": 34,
   "metadata": {
    "collapsed": false
   },
   "outputs": [
    {
     "data": {
      "text/html": [
       "<div>\n",
       "<table border=\"1\" class=\"dataframe\">\n",
       "  <thead>\n",
       "    <tr style=\"text-align: right;\">\n",
       "      <th></th>\n",
       "      <th>Grade</th>\n",
       "      <th>Level</th>\n",
       "      <th>TestResult</th>\n",
       "      <th>Gender</th>\n",
       "    </tr>\n",
       "  </thead>\n",
       "  <tbody>\n",
       "    <tr>\n",
       "      <th>Lily</th>\n",
       "      <td>10</td>\n",
       "      <td>Junior</td>\n",
       "      <td>99</td>\n",
       "      <td>Female</td>\n",
       "    </tr>\n",
       "    <tr>\n",
       "      <th>Lucy</th>\n",
       "      <td>1</td>\n",
       "      <td>Junior</td>\n",
       "      <td>98</td>\n",
       "      <td>Female</td>\n",
       "    </tr>\n",
       "    <tr>\n",
       "      <th>Polly</th>\n",
       "      <td>2</td>\n",
       "      <td>Junior</td>\n",
       "      <td>97</td>\n",
       "      <td>Female</td>\n",
       "    </tr>\n",
       "    <tr>\n",
       "      <th>LiLei</th>\n",
       "      <td>4</td>\n",
       "      <td>Senior</td>\n",
       "      <td>96</td>\n",
       "      <td>Female</td>\n",
       "    </tr>\n",
       "    <tr>\n",
       "      <th>Uncle</th>\n",
       "      <td>3</td>\n",
       "      <td>Senior</td>\n",
       "      <td>95</td>\n",
       "      <td>Female</td>\n",
       "    </tr>\n",
       "    <tr>\n",
       "      <th>Tom</th>\n",
       "      <td>2</td>\n",
       "      <td>Junior</td>\n",
       "      <td>94</td>\n",
       "      <td>Female</td>\n",
       "    </tr>\n",
       "  </tbody>\n",
       "</table>\n",
       "</div>"
      ],
      "text/plain": [
       "       Grade   Level  TestResult  Gender\n",
       "Lily      10  Junior          99  Female\n",
       "Lucy       1  Junior          98  Female\n",
       "Polly      2  Junior          97  Female\n",
       "LiLei      4  Senior          96  Female\n",
       "Uncle      3  Senior          95  Female\n",
       "Tom        2  Junior          94  Female"
      ]
     },
     "execution_count": 34,
     "metadata": {},
     "output_type": "execute_result"
    }
   ],
   "source": [
    "studentDataFrame"
   ]
  },
  {
   "cell_type": "code",
   "execution_count": null,
   "metadata": {
    "collapsed": true
   },
   "outputs": [],
   "source": [
    "# please review SVM and/or dot product, what is vector, variance of mean."
   ]
  }
 ],
 "metadata": {
  "anaconda-cloud": {},
  "kernelspec": {
   "display_name": "Python [Root]",
   "language": "python",
   "name": "Python [Root]"
  },
  "language_info": {
   "codemirror_mode": {
    "name": "ipython",
    "version": 2
   },
   "file_extension": ".py",
   "mimetype": "text/x-python",
   "name": "python",
   "nbconvert_exporter": "python",
   "pygments_lexer": "ipython2",
   "version": "2.7.12"
  }
 },
 "nbformat": 4,
 "nbformat_minor": 1
}
